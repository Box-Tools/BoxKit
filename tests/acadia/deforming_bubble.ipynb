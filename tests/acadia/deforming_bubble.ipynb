{
 "cells": [
  {
   "cell_type": "code",
   "execution_count": 1,
   "id": "daca0546",
   "metadata": {},
   "outputs": [],
   "source": [
    "import numpy\n",
    "import boxkit\n",
    "import matplotlib.pyplot as pyplot"
   ]
  },
  {
   "cell_type": "code",
   "execution_count": 2,
   "id": "690550cb",
   "metadata": {},
   "outputs": [],
   "source": [
    "dataset_blocks=boxkit.read.Dataset(\"/Users/Akash/Desktop/Akash/Workbench/Performance/simulation/Bittree/DeformingBubble2D/parameshBittree/jobnode.archive/sedona-AMRranks8/INS_Deforming_Bubble_hdf5_plt_cnt_0050\", source=\"flash\")"
   ]
  },
  {
   "cell_type": "code",
   "execution_count": 3,
   "id": "e87b2d1f",
   "metadata": {},
   "outputs": [],
   "source": [
    "def plot_velx(dataset):\n",
    "    pyplot.figure()\n",
    "    pyplot.rc(\"font\", family=\"serif\", size=14, weight=\"bold\")\n",
    "    pyplot.rc(\"axes\", labelweight=\"bold\", titleweight=\"bold\")\n",
    "    pyplot.rc(\"text\", usetex=True)\n",
    "    for block in dataset.blocklist:\n",
    "        xmesh, ymesh = numpy.meshgrid(numpy.linspace(block.xmin + block.dx/2, block.xmax - block.dx/2, block.nxb), numpy.linspace(block.ymin - block.dy/2, block.ymax + block.dy/2, block.nyb))\n",
    "        pyplot.contourf(xmesh, ymesh, block[\"velx\"][0,:,:])\n",
    "    pyplot.axis('equal')\n",
    "    pyplot.tight_layout()\n",
    "    pyplot.xlim([dataset.xmin, dataset.xmax])\n",
    "    pyplot.ylim([dataset.ymin, dataset.ymax])\n",
    "    pyplot.show()"
   ]
  },
  {
   "cell_type": "code",
   "execution_count": 4,
   "id": "26fafe1f",
   "metadata": {},
   "outputs": [
    {
     "name": "stdout",
     "output_type": "stream",
     "text": [
      "Dataset:\n",
      " - type         : <class 'boxkit.library._dataset.Dataset'>\n",
      " - file         : <HDF5 file \"INS_Deforming_Bubble_hdf5_plt_cnt_0050\" (mode r)>\n",
      " - keys         : ['dust', 'velx', 'vely', 'dfun']\n",
      " - dtype\t: [<class 'h5pickle.Dataset'>, <class 'h5pickle.Dataset'>, <class 'h5pickle.Dataset'>, <class 'h5pickle.Dataset'>]\n",
      " - bound(z-y-x) : [0.0, 1.0] x [0.0, 1.0] x [0.0, 1.0]\n",
      " - shape(z-y-x) : 1 x 16 x 16\n",
      " - guard(z-y-x) : 0 x 0 x 0\n",
      " - nblocks      : 536\n",
      " - dtype        : {'dust': <class 'h5pickle.Dataset'>, 'velx': <class 'h5pickle.Dataset'>, 'vely': <class 'h5pickle.Dataset'>, 'dfun': <class 'h5pickle.Dataset'>}\n"
     ]
    }
   ],
   "source": [
    "print(dataset_blocks)"
   ]
  },
  {
   "cell_type": "code",
   "execution_count": 5,
   "id": "b0e70234",
   "metadata": {
    "scrolled": true
   },
   "outputs": [
    {
     "name": "stdout",
     "output_type": "stream",
     "text": [
      "[boxkit.stencils.map_dataset_block]: 0.001s\n",
      "[boxkit.reshape.mergeblocks]: 0.009s\n"
     ]
    }
   ],
   "source": [
    "reshaped_dataset=boxkit.reshape.Mergeblocks(dataset_blocks, \"velx\", level=1, nthreads=1, backend=\"loky\")"
   ]
  },
  {
   "cell_type": "code",
   "execution_count": 6,
   "id": "93eb2f24",
   "metadata": {},
   "outputs": [
    {
     "data": {
      "image/png": "[encoded data removed]",
      "text/plain": [
       "<Figure size 640x480 with 1 Axes>"
      ]
     },
     "metadata": {},
     "output_type": "display_data"
    }
   ],
   "source": [
    "plot_velx(reshaped_dataset)"
   ]
  }
 ],
 "metadata": {
  "kernelspec": {
   "display_name": "Python 3 (ipykernel)",
   "language": "python",
   "name": "python3"
  },
  "language_info": {
   "codemirror_mode": {
    "name": "ipython",
    "version": 3
   },
   "file_extension": ".py",
   "mimetype": "text/x-python",
   "name": "python",
   "nbconvert_exporter": "python",
   "pygments_lexer": "ipython3",
   "version": "3.11.0"
  }
 },
 "nbformat": 4,
 "nbformat_minor": 5
}
